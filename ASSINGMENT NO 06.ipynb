{
 "cells": [
  {
   "cell_type": "markdown",
   "id": "a331951e-3f8d-4308-a7fb-aba2f73c7674",
   "metadata": {},
   "source": [
    "## ASSINGMENT NO 06"
   ]
  },
  {
   "cell_type": "code",
   "execution_count": 1,
   "id": "368a79c1-cf15-4304-8375-e1d0d6a71194",
   "metadata": {},
   "outputs": [
    {
     "name": "stdout",
     "output_type": "stream",
     "text": [
      "* \n",
      "* * \n",
      "* * * \n",
      "* * * * \n",
      "* * * * * \n",
      "* * * * \n",
      "* * * \n",
      "* * \n",
      "* \n"
     ]
    }
   ],
   "source": [
    "# Number of rows\n",
    "n = 5\n",
    "\n",
    "# Upper part of the pattern\n",
    "for i in range(1, n + 1):\n",
    "    print('* ' * i)\n",
    "\n",
    "# Lower part of the pattern\n",
    "for i in range(n - 1, 0, -1):\n",
    "    print('* ' * i)\n"
   ]
  },
  {
   "cell_type": "code",
   "execution_count": 5,
   "id": "dff75509-26a1-4f87-8678-7d711fc6a5ca",
   "metadata": {},
   "outputs": [
    {
     "name": "stdin",
     "output_type": "stream",
     "text": [
      "Enter a letter: d\n"
     ]
    },
    {
     "name": "stdout",
     "output_type": "stream",
     "text": [
      "letter, is a consonent\n"
     ]
    }
   ],
   "source": [
    "# FOR COMMAND PROMPT\n",
    "letter= input( 'Enter a letter:').lower()\n",
    "#assing the task\n",
    "if letter in 'aeiou':\n",
    "    print(f'letter, is a vovel')\n",
    "else:\n",
    "    print(f'letter, is a consonent')"
   ]
  },
  {
   "cell_type": "code",
   "execution_count": 19,
   "id": "eea21775-5154-44d6-a634-097160989546",
   "metadata": {},
   "outputs": [
    {
     "name": "stdin",
     "output_type": "stream",
     "text": [
      "enter a number: 6\n"
     ]
    },
    {
     "name": "stdout",
     "output_type": "stream",
     "text": [
      "6 x 1 = 6\n",
      "6 x 2 = 12\n",
      "6 x 3 = 18\n",
      "6 x 4 = 24\n",
      "6 x 5 = 30\n",
      "6 x 6 = 36\n",
      "6 x 7 = 42\n",
      "6 x 8 = 48\n",
      "6 x 9 = 54\n",
      "6 x 10 = 60\n"
     ]
    }
   ],
   "source": [
    "# for command prompt\n",
    "number= int(input( \"enter a number:\").lower())\n",
    "for z in range(1,11):\n",
    "    print( f'{number} x {z} = { number * z}')"
   ]
  },
  {
   "cell_type": "code",
   "execution_count": 33,
   "id": "d4502bb4-54bb-488c-a8dc-2628e1a70167",
   "metadata": {},
   "outputs": [
    {
     "name": "stdin",
     "output_type": "stream",
     "text": [
      "guess the number b/w 1-9  5\n"
     ]
    },
    {
     "name": "stdout",
     "output_type": "stream",
     "text": [
      "try again\n"
     ]
    },
    {
     "name": "stdin",
     "output_type": "stream",
     "text": [
      "guess the number b/w 1-9  1\n"
     ]
    },
    {
     "name": "stdout",
     "output_type": "stream",
     "text": [
      "try again\n"
     ]
    },
    {
     "name": "stdin",
     "output_type": "stream",
     "text": [
      "guess the number b/w 1-9  7\n"
     ]
    },
    {
     "name": "stdout",
     "output_type": "stream",
     "text": [
      "try again\n"
     ]
    },
    {
     "name": "stdin",
     "output_type": "stream",
     "text": [
      "guess the number b/w 1-9  9\n"
     ]
    },
    {
     "name": "stdout",
     "output_type": "stream",
     "text": [
      "try again\n"
     ]
    },
    {
     "name": "stdin",
     "output_type": "stream",
     "text": [
      "guess the number b/w 1-9  3\n"
     ]
    },
    {
     "name": "stdout",
     "output_type": "stream",
     "text": [
      "well guessed\n"
     ]
    }
   ],
   "source": [
    "import random\n",
    "number_to_guess = random.randint(1,9)\n",
    "# for looping\n",
    "while True:\n",
    "    guess = int(input( 'guess the number b/w 1-9 ').lower())\n",
    "    if guess==number_to_guess:\n",
    "        print( 'well guessed')\n",
    "        break\n",
    "    else:\n",
    "        print('try again')\n",
    "    \n"
   ]
  },
  {
   "cell_type": "code",
   "execution_count": 41,
   "id": "ce976400-a3cd-420e-94e6-5b15d8fe84f9",
   "metadata": {},
   "outputs": [
    {
     "name": "stdout",
     "output_type": "stream",
     "text": [
      "Name: Cierra Vega, Height: 6.2 ft, Weight: 70 kg\n",
      "Name: Alden Cantrell, Height: 5.9 ft, Weight: 65 kg\n",
      "Name: Kierra Gentry, Height: 6.0 ft, Weight: 68 kg\n",
      "Name: Pierre Cox, Height: 5.8 ft, Weight: 66 kg\n"
     ]
    },
    {
     "data": {
      "text/plain": [
       "{'Cierra Vega': (6.2, 70)}"
      ]
     },
     "execution_count": 41,
     "metadata": {},
     "output_type": "execute_result"
    }
   ],
   "source": [
    "# Original dictionary with clarification\n",
    "students = {\n",
    "    'Cierra Vega': (6.2, 70),  # (Height in feet, Weight in kg)\n",
    "    'Alden Cantrell': (5.9, 65),\n",
    "    'Kierra Gentry': (6.0, 68),\n",
    "    'Pierre Cox': (5.8, 66)\n",
    "}\n",
    "\n",
    "# Print each student's details\n",
    "for name, (height, weight) in students.items():\n",
    "    print(f\"Name: {name}, Height: {height} ft, Weight: {weight} kg\")\n",
    "filtered_students = {name: (height, weight) for name, (height, weight) in students.items() if height >= 6 and weight >= 70}\n",
    "filtered_students\n",
    "\n"
   ]
  },
  {
   "cell_type": "code",
   "execution_count": 42,
   "id": "60466122-0b2f-4677-80a4-7fd8962e0397",
   "metadata": {},
   "outputs": [
    {
     "name": "stdout",
     "output_type": "stream",
     "text": [
      "Cleared dictionary:\n",
      "{'C1': [], 'C2': [], 'C3': []}\n"
     ]
    }
   ],
   "source": [
    "# Original dictionary\n",
    "data = {\n",
    "    'C1': [10, 20, 30],\n",
    "    'C2': [20, 30, 40],\n",
    "    'C3': [12, 34]\n",
    "}\n",
    "\n",
    "# Clear the list values\n",
    "for key in data:\n",
    "    data[key] = []\n",
    "\n",
    "print(\"Cleared dictionary:\")\n",
    "print(data)\n"
   ]
  },
  {
   "cell_type": "code",
   "execution_count": 1,
   "id": "d4b387d9-9a75-4d93-9221-125276570819",
   "metadata": {},
   "outputs": [
    {
     "name": "stdout",
     "output_type": "stream",
     "text": [
      "The Nile runs through Egypt.\n",
      "The Amazon runs through Brazil.\n",
      "The Yangtze runs through China.\n",
      "\n",
      "Rivers:\n",
      "Nile\n",
      "Amazon\n",
      "Yangtze\n",
      "\n",
      "Countries:\n",
      "Egypt\n",
      "Brazil\n",
      "China\n"
     ]
    }
   ],
   "source": [
    "# Dictionary of rivers\n",
    "rivers = {\n",
    "    'nile': 'egypt',\n",
    "    'amazon': 'brazil',\n",
    "    'yangtze': 'china'\n",
    "}\n",
    "\n",
    "# Print sentences about each river\n",
    "for river, country in rivers.items():\n",
    "    print(f\"The {river.title()} runs through {country.title()}.\")\n",
    "\n",
    "# Print the name of each river\n",
    "print(\"\\nRivers:\")\n",
    "for river in rivers.keys():\n",
    "    print(river.title())\n",
    "\n",
    "# Print the name of each country\n",
    "print(\"\\nCountries:\")\n",
    "for country in rivers.values():\n",
    "    print(country.title())\n"
   ]
  },
  {
   "cell_type": "code",
   "execution_count": 2,
   "id": "ef8f0e84-53c9-4a9b-b783-196b270bf3f5",
   "metadata": {},
   "outputs": [
    {
     "name": "stdin",
     "output_type": "stream",
     "text": [
      "Enter your age (or 'quit' to stop):  3\n"
     ]
    },
    {
     "name": "stdout",
     "output_type": "stream",
     "text": [
      "The ticket is $10.\n"
     ]
    },
    {
     "name": "stdin",
     "output_type": "stream",
     "text": [
      "Enter your age (or 'quit' to stop):  1\n"
     ]
    },
    {
     "name": "stdout",
     "output_type": "stream",
     "text": [
      "The ticket is free.\n"
     ]
    },
    {
     "name": "stdin",
     "output_type": "stream",
     "text": [
      "Enter your age (or 'quit' to stop):  7\n"
     ]
    },
    {
     "name": "stdout",
     "output_type": "stream",
     "text": [
      "The ticket is $10.\n"
     ]
    },
    {
     "name": "stdin",
     "output_type": "stream",
     "text": [
      "Enter your age (or 'quit' to stop):  QUIT\n"
     ]
    }
   ],
   "source": [
    "# Loop to ask for user age and print ticket price\n",
    "while True:\n",
    "    age = input(\"Enter your age (or 'quit' to stop): \")\n",
    "    if age.lower() == 'quit':\n",
    "        break\n",
    "    age = int(age)\n",
    "    \n",
    "    if age < 3:\n",
    "        print(\"The ticket is free.\")\n",
    "    elif 3 <= age <= 12:\n",
    "        print(\"The ticket is $10.\")\n",
    "    else:\n",
    "        print(\"The ticket is $15.\")\n"
   ]
  },
  {
   "cell_type": "code",
   "execution_count": null,
   "id": "3e138155-9abd-4674-894f-a9a7141e09cf",
   "metadata": {},
   "outputs": [],
   "source": []
  }
 ],
 "metadata": {
  "kernelspec": {
   "display_name": "Python 3 (ipykernel)",
   "language": "python",
   "name": "python3"
  },
  "language_info": {
   "codemirror_mode": {
    "name": "ipython",
    "version": 3
   },
   "file_extension": ".py",
   "mimetype": "text/x-python",
   "name": "python",
   "nbconvert_exporter": "python",
   "pygments_lexer": "ipython3",
   "version": "3.12.4"
  }
 },
 "nbformat": 4,
 "nbformat_minor": 5
}
